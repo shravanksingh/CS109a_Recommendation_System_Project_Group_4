{
 "cells": [
  {
   "cell_type": "markdown",
   "metadata": {
    "hide": true
   },
   "source": [
    "# Loading Libraries"
   ]
  },
  {
   "cell_type": "code",
   "execution_count": 1,
   "metadata": {
    "collapsed": true,
    "hide": true
   },
   "outputs": [],
   "source": [
    "import numpy as np\n",
    "import pandas as pd\n",
    "import matplotlib\n",
    "import matplotlib.pyplot as plt\n",
    "from sklearn.linear_model import LogisticRegressionCV\n",
    "import sklearn.metrics as metrics\n",
    "from sklearn.preprocessing import PolynomialFeatures\n",
    "from sklearn.discriminant_analysis import LinearDiscriminantAnalysis\n",
    "from sklearn.discriminant_analysis import QuadraticDiscriminantAnalysis\n",
    "from sklearn.neighbors import KNeighborsClassifier\n",
    "from sklearn.tree import DecisionTreeClassifier\n",
    "from sklearn.model_selection import cross_val_score\n",
    "from sklearn.model_selection import KFold\n",
    "from sklearn.model_selection import GridSearchCV\n",
    "from sklearn import tree\n",
    "from sklearn.metrics import confusion_matrix\n",
    "from sklearn.metrics import roc_curve, auc, roc_auc_score\n",
    "import json\n",
    "from sklearn.tree import export_graphviz\n",
    "from IPython.display import Image\n",
    "from IPython.display import display\n",
    "from IPython.display import display, Math, Latex\n",
    "%matplotlib inline\n",
    "\n",
    "import warnings\n",
    "warnings.filterwarnings('ignore')\n",
    "\n",
    "pd.set_option('display.width', 450)\n",
    "pd.set_option('display.max_columns', 100)\n",
    "pd.set_option('display.notebook_repr_html', True)\n",
    "import seaborn.apionly as sns\n",
    "sns.set_style(\"whitegrid\")\n",
    "\n",
    "c0=sns.color_palette()[0]\n",
    "c1=sns.color_palette()[1]\n",
    "c2=sns.color_palette()[2]"
   ]
  },
  {
   "cell_type": "markdown",
   "metadata": {},
   "source": [
    "# Loading Data via function line by line\n",
    "As we have large amounf data so we are loading data line by line in dataframe business_df, review_df, user_df"
   ]
  },
  {
   "cell_type": "code",
   "execution_count": 2,
   "metadata": {
    "collapsed": true
   },
   "outputs": [],
   "source": [
    "import json\n",
    "\n",
    "def readjson(filepath):\n",
    "    data = []\n",
    "    i=0\n",
    "    with open(filepath,encoding=\"utf8\") as f:\n",
    "            for line in f:\n",
    "                 if i<100000:\n",
    "                    data.append(json.loads(line))\n",
    "                    #print(i)\n",
    "                    i +=1\n",
    "    return pd.DataFrame(data)\n",
    "\n",
    "business_df = readjson('./dataset/business.json')\n",
    "review_df = readjson('./dataset/review.json')\n",
    "user_df = readjson('./dataset/user.json')"
   ]
  },
  {
   "cell_type": "markdown",
   "metadata": {},
   "source": [
    "# Filtering data\n",
    "Getting reaturants out of business dataframe based on Food category"
   ]
  },
  {
   "cell_type": "code",
   "execution_count": 3,
   "metadata": {
    "collapsed": true
   },
   "outputs": [],
   "source": [
    "business_df['categories'] = business_df['categories'].astype(str)\n",
    "restaurant_df = business_df[business_df['categories'].str.contains('Food')==True]\n",
    "\n",
    "complete_df = restaurant_df.merge(review_df,on='business_id').merge(user_df,on='user_id')\n"
   ]
  },
  {
   "cell_type": "code",
   "execution_count": 4,
   "metadata": {
    "hidden": true
   },
   "outputs": [
    {
     "data": {
      "text/html": [
       "<div>\n",
       "<style>\n",
       "    .dataframe thead tr:only-child th {\n",
       "        text-align: right;\n",
       "    }\n",
       "\n",
       "    .dataframe thead th {\n",
       "        text-align: left;\n",
       "    }\n",
       "\n",
       "    .dataframe tbody tr th {\n",
       "        vertical-align: top;\n",
       "    }\n",
       "</style>\n",
       "<table border=\"1\" class=\"dataframe\">\n",
       "  <thead>\n",
       "    <tr style=\"text-align: right;\">\n",
       "      <th></th>\n",
       "      <th>address</th>\n",
       "      <th>attributes</th>\n",
       "      <th>business_id</th>\n",
       "      <th>categories</th>\n",
       "      <th>city</th>\n",
       "      <th>hours</th>\n",
       "      <th>is_open</th>\n",
       "      <th>latitude</th>\n",
       "      <th>longitude</th>\n",
       "      <th>name_x</th>\n",
       "      <th>neighborhood</th>\n",
       "      <th>postal_code</th>\n",
       "      <th>review_count_x</th>\n",
       "      <th>stars_x</th>\n",
       "      <th>state</th>\n",
       "      <th>cool_x</th>\n",
       "      <th>date</th>\n",
       "      <th>funny_x</th>\n",
       "      <th>review_id</th>\n",
       "      <th>stars_y</th>\n",
       "      <th>text</th>\n",
       "      <th>useful_x</th>\n",
       "      <th>user_id</th>\n",
       "      <th>average_stars</th>\n",
       "      <th>compliment_cool</th>\n",
       "      <th>compliment_cute</th>\n",
       "      <th>compliment_funny</th>\n",
       "      <th>compliment_hot</th>\n",
       "      <th>compliment_list</th>\n",
       "      <th>compliment_more</th>\n",
       "      <th>compliment_note</th>\n",
       "      <th>compliment_photos</th>\n",
       "      <th>compliment_plain</th>\n",
       "      <th>compliment_profile</th>\n",
       "      <th>compliment_writer</th>\n",
       "      <th>cool_y</th>\n",
       "      <th>elite</th>\n",
       "      <th>fans</th>\n",
       "      <th>friends</th>\n",
       "      <th>funny_y</th>\n",
       "      <th>name_y</th>\n",
       "      <th>review_count_y</th>\n",
       "      <th>useful_y</th>\n",
       "      <th>yelping_since</th>\n",
       "    </tr>\n",
       "  </thead>\n",
       "  <tbody>\n",
       "    <tr>\n",
       "      <th>0</th>\n",
       "      <td>1203 E Charleston Blvd, Ste 140</td>\n",
       "      <td>{'RestaurantsTableService': True, 'GoodForMeal...</td>\n",
       "      <td>YTqtM2WFhcMZGeAGA08Cfg</td>\n",
       "      <td>['Seafood', 'Restaurants', 'Specialty Food', '...</td>\n",
       "      <td>Las Vegas</td>\n",
       "      <td>{'Monday': '10:30-21:00', 'Tuesday': '10:30-21...</td>\n",
       "      <td>1</td>\n",
       "      <td>36.159363</td>\n",
       "      <td>-115.135949</td>\n",
       "      <td>Mariscos Playa Escondida</td>\n",
       "      <td>Downtown</td>\n",
       "      <td>89104</td>\n",
       "      <td>330</td>\n",
       "      <td>4.5</td>\n",
       "      <td>NV</td>\n",
       "      <td>0</td>\n",
       "      <td>2016-09-16</td>\n",
       "      <td>1</td>\n",
       "      <td>ZH8g_PoY0Tr3YdQ-RGySrA</td>\n",
       "      <td>5</td>\n",
       "      <td>Great place. There was a man here who was very...</td>\n",
       "      <td>1</td>\n",
       "      <td>EDe16577dBImA1ypOzPlKg</td>\n",
       "      <td>5.00</td>\n",
       "      <td>0</td>\n",
       "      <td>0</td>\n",
       "      <td>0</td>\n",
       "      <td>0</td>\n",
       "      <td>0</td>\n",
       "      <td>0</td>\n",
       "      <td>0</td>\n",
       "      <td>0</td>\n",
       "      <td>0</td>\n",
       "      <td>0</td>\n",
       "      <td>0</td>\n",
       "      <td>0</td>\n",
       "      <td>[]</td>\n",
       "      <td>0</td>\n",
       "      <td>[]</td>\n",
       "      <td>0</td>\n",
       "      <td>Jessica</td>\n",
       "      <td>1</td>\n",
       "      <td>0</td>\n",
       "      <td>2014-07-26</td>\n",
       "    </tr>\n",
       "    <tr>\n",
       "      <th>1</th>\n",
       "      <td>1203 E Charleston Blvd, Ste 140</td>\n",
       "      <td>{'RestaurantsTableService': True, 'GoodForMeal...</td>\n",
       "      <td>YTqtM2WFhcMZGeAGA08Cfg</td>\n",
       "      <td>['Seafood', 'Restaurants', 'Specialty Food', '...</td>\n",
       "      <td>Las Vegas</td>\n",
       "      <td>{'Monday': '10:30-21:00', 'Tuesday': '10:30-21...</td>\n",
       "      <td>1</td>\n",
       "      <td>36.159363</td>\n",
       "      <td>-115.135949</td>\n",
       "      <td>Mariscos Playa Escondida</td>\n",
       "      <td>Downtown</td>\n",
       "      <td>89104</td>\n",
       "      <td>330</td>\n",
       "      <td>4.5</td>\n",
       "      <td>NV</td>\n",
       "      <td>1</td>\n",
       "      <td>2014-11-13</td>\n",
       "      <td>1</td>\n",
       "      <td>6r2uAJE1dqUq1IHn_3R3qA</td>\n",
       "      <td>4</td>\n",
       "      <td>HOT HOT HOT! Real Mexican Food\\n\\nNO fake wate...</td>\n",
       "      <td>2</td>\n",
       "      <td>twx2ZgFUbat87vGQ_tFbPA</td>\n",
       "      <td>3.55</td>\n",
       "      <td>0</td>\n",
       "      <td>0</td>\n",
       "      <td>0</td>\n",
       "      <td>2</td>\n",
       "      <td>0</td>\n",
       "      <td>1</td>\n",
       "      <td>3</td>\n",
       "      <td>0</td>\n",
       "      <td>5</td>\n",
       "      <td>0</td>\n",
       "      <td>0</td>\n",
       "      <td>11</td>\n",
       "      <td>[]</td>\n",
       "      <td>3</td>\n",
       "      <td>[eFObFWgDiQJwUiy9WlhOfg, W4KL3Q_AVGfRrWcwR60gK...</td>\n",
       "      <td>29</td>\n",
       "      <td>Edwin</td>\n",
       "      <td>94</td>\n",
       "      <td>317</td>\n",
       "      <td>2010-12-30</td>\n",
       "    </tr>\n",
       "  </tbody>\n",
       "</table>\n",
       "</div>"
      ],
      "text/plain": [
       "                           address                                         attributes             business_id                                         categories       city                                              hours  is_open   latitude   longitude                    name_x neighborhood postal_code  review_count_x  stars_x state  cool_x        date  funny_x               review_id  stars_y  \\\n",
       "0  1203 E Charleston Blvd, Ste 140  {'RestaurantsTableService': True, 'GoodForMeal...  YTqtM2WFhcMZGeAGA08Cfg  ['Seafood', 'Restaurants', 'Specialty Food', '...  Las Vegas  {'Monday': '10:30-21:00', 'Tuesday': '10:30-21...        1  36.159363 -115.135949  Mariscos Playa Escondida     Downtown       89104             330      4.5    NV       0  2016-09-16        1  ZH8g_PoY0Tr3YdQ-RGySrA        5   \n",
       "1  1203 E Charleston Blvd, Ste 140  {'RestaurantsTableService': True, 'GoodForMeal...  YTqtM2WFhcMZGeAGA08Cfg  ['Seafood', 'Restaurants', 'Specialty Food', '...  Las Vegas  {'Monday': '10:30-21:00', 'Tuesday': '10:30-21...        1  36.159363 -115.135949  Mariscos Playa Escondida     Downtown       89104             330      4.5    NV       1  2014-11-13        1  6r2uAJE1dqUq1IHn_3R3qA        4   \n",
       "\n",
       "                                                text  useful_x                 user_id  average_stars  compliment_cool  compliment_cute  compliment_funny  compliment_hot  compliment_list  compliment_more  compliment_note  compliment_photos  compliment_plain  compliment_profile  compliment_writer  cool_y elite  fans                                            friends  funny_y   name_y  review_count_y  useful_y yelping_since  \n",
       "0  Great place. There was a man here who was very...         1  EDe16577dBImA1ypOzPlKg           5.00                0                0                 0               0                0                0                0                  0                 0                   0                  0       0    []     0                                                 []        0  Jessica               1         0    2014-07-26  \n",
       "1  HOT HOT HOT! Real Mexican Food\\n\\nNO fake wate...         2  twx2ZgFUbat87vGQ_tFbPA           3.55                0                0                 0               2                0                1                3                  0                 5                   0                  0      11    []     3  [eFObFWgDiQJwUiy9WlhOfg, W4KL3Q_AVGfRrWcwR60gK...       29    Edwin              94       317    2010-12-30  "
      ]
     },
     "execution_count": 4,
     "metadata": {},
     "output_type": "execute_result"
    }
   ],
   "source": [
    "complete_df.head(2)"
   ]
  },
  {
   "cell_type": "code",
   "execution_count": 5,
   "metadata": {},
   "outputs": [
    {
     "data": {
      "text/html": [
       "<div>\n",
       "<style>\n",
       "    .dataframe thead tr:only-child th {\n",
       "        text-align: right;\n",
       "    }\n",
       "\n",
       "    .dataframe thead th {\n",
       "        text-align: left;\n",
       "    }\n",
       "\n",
       "    .dataframe tbody tr th {\n",
       "        vertical-align: top;\n",
       "    }\n",
       "</style>\n",
       "<table border=\"1\" class=\"dataframe\">\n",
       "  <thead>\n",
       "    <tr style=\"text-align: right;\">\n",
       "      <th></th>\n",
       "      <th>is_open</th>\n",
       "      <th>latitude</th>\n",
       "      <th>longitude</th>\n",
       "      <th>review_count</th>\n",
       "      <th>stars</th>\n",
       "    </tr>\n",
       "  </thead>\n",
       "  <tbody>\n",
       "    <tr>\n",
       "      <th>count</th>\n",
       "      <td>18503.00000</td>\n",
       "      <td>18503.000000</td>\n",
       "      <td>18503.000000</td>\n",
       "      <td>18503.000000</td>\n",
       "      <td>18503.000000</td>\n",
       "    </tr>\n",
       "    <tr>\n",
       "      <th>mean</th>\n",
       "      <td>0.83073</td>\n",
       "      <td>39.702568</td>\n",
       "      <td>-87.807760</td>\n",
       "      <td>34.804464</td>\n",
       "      <td>3.546857</td>\n",
       "    </tr>\n",
       "    <tr>\n",
       "      <th>std</th>\n",
       "      <td>0.37500</td>\n",
       "      <td>5.747548</td>\n",
       "      <td>27.691971</td>\n",
       "      <td>82.946472</td>\n",
       "      <td>0.889710</td>\n",
       "    </tr>\n",
       "    <tr>\n",
       "      <th>min</th>\n",
       "      <td>0.00000</td>\n",
       "      <td>-34.520401</td>\n",
       "      <td>-119.551325</td>\n",
       "      <td>3.000000</td>\n",
       "      <td>1.000000</td>\n",
       "    </tr>\n",
       "    <tr>\n",
       "      <th>25%</th>\n",
       "      <td>1.00000</td>\n",
       "      <td>35.135615</td>\n",
       "      <td>-112.013439</td>\n",
       "      <td>5.000000</td>\n",
       "      <td>3.000000</td>\n",
       "    </tr>\n",
       "    <tr>\n",
       "      <th>50%</th>\n",
       "      <td>1.00000</td>\n",
       "      <td>40.440368</td>\n",
       "      <td>-81.357777</td>\n",
       "      <td>11.000000</td>\n",
       "      <td>3.500000</td>\n",
       "    </tr>\n",
       "    <tr>\n",
       "      <th>75%</th>\n",
       "      <td>1.00000</td>\n",
       "      <td>43.665419</td>\n",
       "      <td>-79.414244</td>\n",
       "      <td>31.000000</td>\n",
       "      <td>4.000000</td>\n",
       "    </tr>\n",
       "    <tr>\n",
       "      <th>max</th>\n",
       "      <td>1.00000</td>\n",
       "      <td>59.438181</td>\n",
       "      <td>11.769500</td>\n",
       "      <td>3439.000000</td>\n",
       "      <td>5.000000</td>\n",
       "    </tr>\n",
       "  </tbody>\n",
       "</table>\n",
       "</div>"
      ],
      "text/plain": [
       "           is_open      latitude     longitude  review_count         stars\n",
       "count  18503.00000  18503.000000  18503.000000  18503.000000  18503.000000\n",
       "mean       0.83073     39.702568    -87.807760     34.804464      3.546857\n",
       "std        0.37500      5.747548     27.691971     82.946472      0.889710\n",
       "min        0.00000    -34.520401   -119.551325      3.000000      1.000000\n",
       "25%        1.00000     35.135615   -112.013439      5.000000      3.000000\n",
       "50%        1.00000     40.440368    -81.357777     11.000000      3.500000\n",
       "75%        1.00000     43.665419    -79.414244     31.000000      4.000000\n",
       "max        1.00000     59.438181     11.769500   3439.000000      5.000000"
      ]
     },
     "execution_count": 5,
     "metadata": {},
     "output_type": "execute_result"
    }
   ],
   "source": [
    "restaurant_df.describe()"
   ]
  },
  {
   "cell_type": "code",
   "execution_count": 6,
   "metadata": {},
   "outputs": [
    {
     "data": {
      "text/html": [
       "<div>\n",
       "<style>\n",
       "    .dataframe thead tr:only-child th {\n",
       "        text-align: right;\n",
       "    }\n",
       "\n",
       "    .dataframe thead th {\n",
       "        text-align: left;\n",
       "    }\n",
       "\n",
       "    .dataframe tbody tr th {\n",
       "        vertical-align: top;\n",
       "    }\n",
       "</style>\n",
       "<table border=\"1\" class=\"dataframe\">\n",
       "  <thead>\n",
       "    <tr style=\"text-align: right;\">\n",
       "      <th></th>\n",
       "      <th>average_stars</th>\n",
       "      <th>compliment_cool</th>\n",
       "      <th>compliment_cute</th>\n",
       "      <th>compliment_funny</th>\n",
       "      <th>compliment_hot</th>\n",
       "      <th>compliment_list</th>\n",
       "      <th>compliment_more</th>\n",
       "      <th>compliment_note</th>\n",
       "      <th>compliment_photos</th>\n",
       "      <th>compliment_plain</th>\n",
       "      <th>compliment_profile</th>\n",
       "      <th>compliment_writer</th>\n",
       "      <th>cool</th>\n",
       "      <th>fans</th>\n",
       "      <th>funny</th>\n",
       "      <th>review_count</th>\n",
       "      <th>useful</th>\n",
       "    </tr>\n",
       "  </thead>\n",
       "  <tbody>\n",
       "    <tr>\n",
       "      <th>count</th>\n",
       "      <td>100000.000000</td>\n",
       "      <td>100000.000000</td>\n",
       "      <td>100000.000000</td>\n",
       "      <td>100000.000000</td>\n",
       "      <td>100000.000000</td>\n",
       "      <td>100000.000000</td>\n",
       "      <td>100000.000000</td>\n",
       "      <td>100000.000000</td>\n",
       "      <td>100000.000000</td>\n",
       "      <td>100000.000000</td>\n",
       "      <td>100000.000000</td>\n",
       "      <td>100000.000000</td>\n",
       "      <td>100000.000000</td>\n",
       "      <td>100000.000000</td>\n",
       "      <td>100000.000000</td>\n",
       "      <td>100000.000000</td>\n",
       "      <td>100000.000000</td>\n",
       "    </tr>\n",
       "    <tr>\n",
       "      <th>mean</th>\n",
       "      <td>3.729684</td>\n",
       "      <td>16.342210</td>\n",
       "      <td>0.950070</td>\n",
       "      <td>16.342210</td>\n",
       "      <td>12.015470</td>\n",
       "      <td>0.416970</td>\n",
       "      <td>1.465460</td>\n",
       "      <td>6.980040</td>\n",
       "      <td>5.491070</td>\n",
       "      <td>15.870480</td>\n",
       "      <td>1.046280</td>\n",
       "      <td>6.151540</td>\n",
       "      <td>91.215580</td>\n",
       "      <td>5.103230</td>\n",
       "      <td>64.731610</td>\n",
       "      <td>66.524450</td>\n",
       "      <td>120.838970</td>\n",
       "    </tr>\n",
       "    <tr>\n",
       "      <th>std</th>\n",
       "      <td>0.835715</td>\n",
       "      <td>197.424646</td>\n",
       "      <td>16.639768</td>\n",
       "      <td>197.424646</td>\n",
       "      <td>175.458886</td>\n",
       "      <td>7.165452</td>\n",
       "      <td>15.762362</td>\n",
       "      <td>70.410324</td>\n",
       "      <td>153.225409</td>\n",
       "      <td>194.113025</td>\n",
       "      <td>19.474635</td>\n",
       "      <td>73.883346</td>\n",
       "      <td>1509.129416</td>\n",
       "      <td>29.803631</td>\n",
       "      <td>1049.502721</td>\n",
       "      <td>178.975429</td>\n",
       "      <td>1610.123217</td>\n",
       "    </tr>\n",
       "    <tr>\n",
       "      <th>min</th>\n",
       "      <td>1.000000</td>\n",
       "      <td>0.000000</td>\n",
       "      <td>0.000000</td>\n",
       "      <td>0.000000</td>\n",
       "      <td>0.000000</td>\n",
       "      <td>0.000000</td>\n",
       "      <td>0.000000</td>\n",
       "      <td>0.000000</td>\n",
       "      <td>0.000000</td>\n",
       "      <td>0.000000</td>\n",
       "      <td>0.000000</td>\n",
       "      <td>0.000000</td>\n",
       "      <td>0.000000</td>\n",
       "      <td>0.000000</td>\n",
       "      <td>0.000000</td>\n",
       "      <td>0.000000</td>\n",
       "      <td>0.000000</td>\n",
       "    </tr>\n",
       "    <tr>\n",
       "      <th>25%</th>\n",
       "      <td>3.350000</td>\n",
       "      <td>0.000000</td>\n",
       "      <td>0.000000</td>\n",
       "      <td>0.000000</td>\n",
       "      <td>0.000000</td>\n",
       "      <td>0.000000</td>\n",
       "      <td>0.000000</td>\n",
       "      <td>0.000000</td>\n",
       "      <td>0.000000</td>\n",
       "      <td>0.000000</td>\n",
       "      <td>0.000000</td>\n",
       "      <td>0.000000</td>\n",
       "      <td>0.000000</td>\n",
       "      <td>0.000000</td>\n",
       "      <td>0.000000</td>\n",
       "      <td>5.000000</td>\n",
       "      <td>0.000000</td>\n",
       "    </tr>\n",
       "    <tr>\n",
       "      <th>50%</th>\n",
       "      <td>3.810000</td>\n",
       "      <td>0.000000</td>\n",
       "      <td>0.000000</td>\n",
       "      <td>0.000000</td>\n",
       "      <td>0.000000</td>\n",
       "      <td>0.000000</td>\n",
       "      <td>0.000000</td>\n",
       "      <td>0.000000</td>\n",
       "      <td>0.000000</td>\n",
       "      <td>0.000000</td>\n",
       "      <td>0.000000</td>\n",
       "      <td>0.000000</td>\n",
       "      <td>0.000000</td>\n",
       "      <td>0.000000</td>\n",
       "      <td>0.000000</td>\n",
       "      <td>16.000000</td>\n",
       "      <td>2.000000</td>\n",
       "    </tr>\n",
       "    <tr>\n",
       "      <th>75%</th>\n",
       "      <td>4.240000</td>\n",
       "      <td>1.000000</td>\n",
       "      <td>0.000000</td>\n",
       "      <td>1.000000</td>\n",
       "      <td>0.000000</td>\n",
       "      <td>0.000000</td>\n",
       "      <td>0.000000</td>\n",
       "      <td>1.000000</td>\n",
       "      <td>0.000000</td>\n",
       "      <td>1.000000</td>\n",
       "      <td>0.000000</td>\n",
       "      <td>1.000000</td>\n",
       "      <td>2.000000</td>\n",
       "      <td>2.000000</td>\n",
       "      <td>3.000000</td>\n",
       "      <td>50.000000</td>\n",
       "      <td>13.000000</td>\n",
       "    </tr>\n",
       "    <tr>\n",
       "      <th>max</th>\n",
       "      <td>5.000000</td>\n",
       "      <td>16710.000000</td>\n",
       "      <td>2146.000000</td>\n",
       "      <td>16710.000000</td>\n",
       "      <td>19988.000000</td>\n",
       "      <td>1265.000000</td>\n",
       "      <td>1576.000000</td>\n",
       "      <td>6340.000000</td>\n",
       "      <td>33297.000000</td>\n",
       "      <td>13075.000000</td>\n",
       "      <td>2232.000000</td>\n",
       "      <td>7117.000000</td>\n",
       "      <td>175230.000000</td>\n",
       "      <td>1837.000000</td>\n",
       "      <td>103514.000000</td>\n",
       "      <td>11065.000000</td>\n",
       "      <td>187179.000000</td>\n",
       "    </tr>\n",
       "  </tbody>\n",
       "</table>\n",
       "</div>"
      ],
      "text/plain": [
       "       average_stars  compliment_cool  compliment_cute  compliment_funny  compliment_hot  compliment_list  compliment_more  compliment_note  compliment_photos  compliment_plain  compliment_profile  compliment_writer           cool           fans          funny   review_count         useful\n",
       "count  100000.000000    100000.000000    100000.000000     100000.000000   100000.000000    100000.000000    100000.000000    100000.000000      100000.000000     100000.000000       100000.000000      100000.000000  100000.000000  100000.000000  100000.000000  100000.000000  100000.000000\n",
       "mean        3.729684        16.342210         0.950070         16.342210       12.015470         0.416970         1.465460         6.980040           5.491070         15.870480            1.046280           6.151540      91.215580       5.103230      64.731610      66.524450     120.838970\n",
       "std         0.835715       197.424646        16.639768        197.424646      175.458886         7.165452        15.762362        70.410324         153.225409        194.113025           19.474635          73.883346    1509.129416      29.803631    1049.502721     178.975429    1610.123217\n",
       "min         1.000000         0.000000         0.000000          0.000000        0.000000         0.000000         0.000000         0.000000           0.000000          0.000000            0.000000           0.000000       0.000000       0.000000       0.000000       0.000000       0.000000\n",
       "25%         3.350000         0.000000         0.000000          0.000000        0.000000         0.000000         0.000000         0.000000           0.000000          0.000000            0.000000           0.000000       0.000000       0.000000       0.000000       5.000000       0.000000\n",
       "50%         3.810000         0.000000         0.000000          0.000000        0.000000         0.000000         0.000000         0.000000           0.000000          0.000000            0.000000           0.000000       0.000000       0.000000       0.000000      16.000000       2.000000\n",
       "75%         4.240000         1.000000         0.000000          1.000000        0.000000         0.000000         0.000000         1.000000           0.000000          1.000000            0.000000           1.000000       2.000000       2.000000       3.000000      50.000000      13.000000\n",
       "max         5.000000     16710.000000      2146.000000      16710.000000    19988.000000      1265.000000      1576.000000      6340.000000       33297.000000      13075.000000         2232.000000        7117.000000  175230.000000    1837.000000  103514.000000   11065.000000  187179.000000"
      ]
     },
     "execution_count": 6,
     "metadata": {},
     "output_type": "execute_result"
    }
   ],
   "source": [
    "user_df.describe()"
   ]
  },
  {
   "cell_type": "code",
   "execution_count": 7,
   "metadata": {},
   "outputs": [
    {
     "data": {
      "text/html": [
       "<div>\n",
       "<style>\n",
       "    .dataframe thead tr:only-child th {\n",
       "        text-align: right;\n",
       "    }\n",
       "\n",
       "    .dataframe thead th {\n",
       "        text-align: left;\n",
       "    }\n",
       "\n",
       "    .dataframe tbody tr th {\n",
       "        vertical-align: top;\n",
       "    }\n",
       "</style>\n",
       "<table border=\"1\" class=\"dataframe\">\n",
       "  <thead>\n",
       "    <tr style=\"text-align: right;\">\n",
       "      <th></th>\n",
       "      <th>cool</th>\n",
       "      <th>funny</th>\n",
       "      <th>stars</th>\n",
       "      <th>useful</th>\n",
       "    </tr>\n",
       "  </thead>\n",
       "  <tbody>\n",
       "    <tr>\n",
       "      <th>count</th>\n",
       "      <td>100000.000000</td>\n",
       "      <td>100000.000000</td>\n",
       "      <td>100000.000000</td>\n",
       "      <td>100000.00000</td>\n",
       "    </tr>\n",
       "    <tr>\n",
       "      <th>mean</th>\n",
       "      <td>0.532470</td>\n",
       "      <td>0.411740</td>\n",
       "      <td>3.730530</td>\n",
       "      <td>1.01213</td>\n",
       "    </tr>\n",
       "    <tr>\n",
       "      <th>std</th>\n",
       "      <td>1.992121</td>\n",
       "      <td>1.655608</td>\n",
       "      <td>1.418456</td>\n",
       "      <td>2.46252</td>\n",
       "    </tr>\n",
       "    <tr>\n",
       "      <th>min</th>\n",
       "      <td>0.000000</td>\n",
       "      <td>0.000000</td>\n",
       "      <td>1.000000</td>\n",
       "      <td>0.00000</td>\n",
       "    </tr>\n",
       "    <tr>\n",
       "      <th>25%</th>\n",
       "      <td>0.000000</td>\n",
       "      <td>0.000000</td>\n",
       "      <td>3.000000</td>\n",
       "      <td>0.00000</td>\n",
       "    </tr>\n",
       "    <tr>\n",
       "      <th>50%</th>\n",
       "      <td>0.000000</td>\n",
       "      <td>0.000000</td>\n",
       "      <td>4.000000</td>\n",
       "      <td>0.00000</td>\n",
       "    </tr>\n",
       "    <tr>\n",
       "      <th>75%</th>\n",
       "      <td>0.000000</td>\n",
       "      <td>0.000000</td>\n",
       "      <td>5.000000</td>\n",
       "      <td>1.00000</td>\n",
       "    </tr>\n",
       "    <tr>\n",
       "      <th>max</th>\n",
       "      <td>104.000000</td>\n",
       "      <td>114.000000</td>\n",
       "      <td>5.000000</td>\n",
       "      <td>113.00000</td>\n",
       "    </tr>\n",
       "  </tbody>\n",
       "</table>\n",
       "</div>"
      ],
      "text/plain": [
       "                cool          funny          stars        useful\n",
       "count  100000.000000  100000.000000  100000.000000  100000.00000\n",
       "mean        0.532470       0.411740       3.730530       1.01213\n",
       "std         1.992121       1.655608       1.418456       2.46252\n",
       "min         0.000000       0.000000       1.000000       0.00000\n",
       "25%         0.000000       0.000000       3.000000       0.00000\n",
       "50%         0.000000       0.000000       4.000000       0.00000\n",
       "75%         0.000000       0.000000       5.000000       1.00000\n",
       "max       104.000000     114.000000       5.000000     113.00000"
      ]
     },
     "execution_count": 7,
     "metadata": {},
     "output_type": "execute_result"
    }
   ],
   "source": [
    "review_df.describe()"
   ]
  },
  {
   "cell_type": "code",
   "execution_count": 8,
   "metadata": {},
   "outputs": [
    {
     "data": {
      "text/html": [
       "<div>\n",
       "<style>\n",
       "    .dataframe thead tr:only-child th {\n",
       "        text-align: right;\n",
       "    }\n",
       "\n",
       "    .dataframe thead th {\n",
       "        text-align: left;\n",
       "    }\n",
       "\n",
       "    .dataframe tbody tr th {\n",
       "        vertical-align: top;\n",
       "    }\n",
       "</style>\n",
       "<table border=\"1\" class=\"dataframe\">\n",
       "  <thead>\n",
       "    <tr style=\"text-align: right;\">\n",
       "      <th></th>\n",
       "      <th>business_id</th>\n",
       "      <th>cool</th>\n",
       "      <th>date</th>\n",
       "      <th>funny</th>\n",
       "      <th>review_id</th>\n",
       "      <th>stars</th>\n",
       "      <th>text</th>\n",
       "      <th>useful</th>\n",
       "      <th>user_id</th>\n",
       "    </tr>\n",
       "  </thead>\n",
       "  <tbody>\n",
       "    <tr>\n",
       "      <th>0</th>\n",
       "      <td>uYHaNptLzDLoV_JZ_MuzUA</td>\n",
       "      <td>0</td>\n",
       "      <td>2016-07-12</td>\n",
       "      <td>0</td>\n",
       "      <td>VfBHSwC5Vz_pbFluy07i9Q</td>\n",
       "      <td>5</td>\n",
       "      <td>My girlfriend and I stayed here for 3 nights a...</td>\n",
       "      <td>0</td>\n",
       "      <td>cjpdDjZyprfyDG3RlkVG3w</td>\n",
       "    </tr>\n",
       "    <tr>\n",
       "      <th>1</th>\n",
       "      <td>uYHaNptLzDLoV_JZ_MuzUA</td>\n",
       "      <td>0</td>\n",
       "      <td>2016-10-02</td>\n",
       "      <td>0</td>\n",
       "      <td>3zRpneRKDsOPq92tq7ybAA</td>\n",
       "      <td>3</td>\n",
       "      <td>If you need an inexpensive place to stay for a...</td>\n",
       "      <td>0</td>\n",
       "      <td>bjTcT8Ty4cJZhEOEo01FGA</td>\n",
       "    </tr>\n",
       "  </tbody>\n",
       "</table>\n",
       "</div>"
      ],
      "text/plain": [
       "              business_id  cool        date  funny               review_id  stars                                               text  useful                 user_id\n",
       "0  uYHaNptLzDLoV_JZ_MuzUA     0  2016-07-12      0  VfBHSwC5Vz_pbFluy07i9Q      5  My girlfriend and I stayed here for 3 nights a...       0  cjpdDjZyprfyDG3RlkVG3w\n",
       "1  uYHaNptLzDLoV_JZ_MuzUA     0  2016-10-02      0  3zRpneRKDsOPq92tq7ybAA      3  If you need an inexpensive place to stay for a...       0  bjTcT8Ty4cJZhEOEo01FGA"
      ]
     },
     "execution_count": 8,
     "metadata": {},
     "output_type": "execute_result"
    }
   ],
   "source": [
    "review_df.head(2)"
   ]
  },
  {
   "cell_type": "markdown",
   "metadata": {},
   "source": [
    "# Models"
   ]
  },
  {
   "cell_type": "markdown",
   "metadata": {},
   "source": [
    "##  Creating Baseline Model"
   ]
  },
  {
   "cell_type": "code",
   "execution_count": 9,
   "metadata": {},
   "outputs": [
    {
     "data": {
      "text/html": [
       "<div>\n",
       "<style>\n",
       "    .dataframe thead tr:only-child th {\n",
       "        text-align: right;\n",
       "    }\n",
       "\n",
       "    .dataframe thead th {\n",
       "        text-align: left;\n",
       "    }\n",
       "\n",
       "    .dataframe tbody tr th {\n",
       "        vertical-align: top;\n",
       "    }\n",
       "</style>\n",
       "<table border=\"1\" class=\"dataframe\">\n",
       "  <thead>\n",
       "    <tr style=\"text-align: right;\">\n",
       "      <th></th>\n",
       "      <th>address</th>\n",
       "      <th>attributes</th>\n",
       "      <th>business_id</th>\n",
       "      <th>categories</th>\n",
       "      <th>city</th>\n",
       "      <th>hours</th>\n",
       "      <th>is_open</th>\n",
       "      <th>latitude</th>\n",
       "      <th>longitude</th>\n",
       "      <th>name_x</th>\n",
       "      <th>neighborhood</th>\n",
       "      <th>postal_code</th>\n",
       "      <th>review_count_x</th>\n",
       "      <th>stars_x</th>\n",
       "      <th>state</th>\n",
       "      <th>cool_x</th>\n",
       "      <th>date</th>\n",
       "      <th>funny_x</th>\n",
       "      <th>review_id</th>\n",
       "      <th>stars_y</th>\n",
       "      <th>text</th>\n",
       "      <th>useful_x</th>\n",
       "      <th>user_id</th>\n",
       "      <th>average_stars</th>\n",
       "      <th>compliment_cool</th>\n",
       "      <th>compliment_cute</th>\n",
       "      <th>compliment_funny</th>\n",
       "      <th>compliment_hot</th>\n",
       "      <th>compliment_list</th>\n",
       "      <th>compliment_more</th>\n",
       "      <th>compliment_note</th>\n",
       "      <th>compliment_photos</th>\n",
       "      <th>compliment_plain</th>\n",
       "      <th>compliment_profile</th>\n",
       "      <th>compliment_writer</th>\n",
       "      <th>cool_y</th>\n",
       "      <th>elite</th>\n",
       "      <th>fans</th>\n",
       "      <th>friends</th>\n",
       "      <th>funny_y</th>\n",
       "      <th>name_y</th>\n",
       "      <th>review_count_y</th>\n",
       "      <th>useful_y</th>\n",
       "      <th>yelping_since</th>\n",
       "    </tr>\n",
       "  </thead>\n",
       "  <tbody>\n",
       "    <tr>\n",
       "      <th>0</th>\n",
       "      <td>1203 E Charleston Blvd, Ste 140</td>\n",
       "      <td>{'RestaurantsTableService': True, 'GoodForMeal...</td>\n",
       "      <td>YTqtM2WFhcMZGeAGA08Cfg</td>\n",
       "      <td>['Seafood', 'Restaurants', 'Specialty Food', '...</td>\n",
       "      <td>Las Vegas</td>\n",
       "      <td>{'Monday': '10:30-21:00', 'Tuesday': '10:30-21...</td>\n",
       "      <td>1</td>\n",
       "      <td>36.159363</td>\n",
       "      <td>-115.135949</td>\n",
       "      <td>Mariscos Playa Escondida</td>\n",
       "      <td>Downtown</td>\n",
       "      <td>89104</td>\n",
       "      <td>330</td>\n",
       "      <td>4.5</td>\n",
       "      <td>NV</td>\n",
       "      <td>0</td>\n",
       "      <td>2016-09-16</td>\n",
       "      <td>1</td>\n",
       "      <td>ZH8g_PoY0Tr3YdQ-RGySrA</td>\n",
       "      <td>5</td>\n",
       "      <td>Great place. There was a man here who was very...</td>\n",
       "      <td>1</td>\n",
       "      <td>EDe16577dBImA1ypOzPlKg</td>\n",
       "      <td>5.00</td>\n",
       "      <td>0</td>\n",
       "      <td>0</td>\n",
       "      <td>0</td>\n",
       "      <td>0</td>\n",
       "      <td>0</td>\n",
       "      <td>0</td>\n",
       "      <td>0</td>\n",
       "      <td>0</td>\n",
       "      <td>0</td>\n",
       "      <td>0</td>\n",
       "      <td>0</td>\n",
       "      <td>0</td>\n",
       "      <td>[]</td>\n",
       "      <td>0</td>\n",
       "      <td>[]</td>\n",
       "      <td>0</td>\n",
       "      <td>Jessica</td>\n",
       "      <td>1</td>\n",
       "      <td>0</td>\n",
       "      <td>2014-07-26</td>\n",
       "    </tr>\n",
       "    <tr>\n",
       "      <th>1</th>\n",
       "      <td>1203 E Charleston Blvd, Ste 140</td>\n",
       "      <td>{'RestaurantsTableService': True, 'GoodForMeal...</td>\n",
       "      <td>YTqtM2WFhcMZGeAGA08Cfg</td>\n",
       "      <td>['Seafood', 'Restaurants', 'Specialty Food', '...</td>\n",
       "      <td>Las Vegas</td>\n",
       "      <td>{'Monday': '10:30-21:00', 'Tuesday': '10:30-21...</td>\n",
       "      <td>1</td>\n",
       "      <td>36.159363</td>\n",
       "      <td>-115.135949</td>\n",
       "      <td>Mariscos Playa Escondida</td>\n",
       "      <td>Downtown</td>\n",
       "      <td>89104</td>\n",
       "      <td>330</td>\n",
       "      <td>4.5</td>\n",
       "      <td>NV</td>\n",
       "      <td>1</td>\n",
       "      <td>2014-11-13</td>\n",
       "      <td>1</td>\n",
       "      <td>6r2uAJE1dqUq1IHn_3R3qA</td>\n",
       "      <td>4</td>\n",
       "      <td>HOT HOT HOT! Real Mexican Food\\n\\nNO fake wate...</td>\n",
       "      <td>2</td>\n",
       "      <td>twx2ZgFUbat87vGQ_tFbPA</td>\n",
       "      <td>3.55</td>\n",
       "      <td>0</td>\n",
       "      <td>0</td>\n",
       "      <td>0</td>\n",
       "      <td>2</td>\n",
       "      <td>0</td>\n",
       "      <td>1</td>\n",
       "      <td>3</td>\n",
       "      <td>0</td>\n",
       "      <td>5</td>\n",
       "      <td>0</td>\n",
       "      <td>0</td>\n",
       "      <td>11</td>\n",
       "      <td>[]</td>\n",
       "      <td>3</td>\n",
       "      <td>[eFObFWgDiQJwUiy9WlhOfg, W4KL3Q_AVGfRrWcwR60gK...</td>\n",
       "      <td>29</td>\n",
       "      <td>Edwin</td>\n",
       "      <td>94</td>\n",
       "      <td>317</td>\n",
       "      <td>2010-12-30</td>\n",
       "    </tr>\n",
       "  </tbody>\n",
       "</table>\n",
       "</div>"
      ],
      "text/plain": [
       "                           address                                         attributes             business_id                                         categories       city                                              hours  is_open   latitude   longitude                    name_x neighborhood postal_code  review_count_x  stars_x state  cool_x        date  funny_x               review_id  stars_y  \\\n",
       "0  1203 E Charleston Blvd, Ste 140  {'RestaurantsTableService': True, 'GoodForMeal...  YTqtM2WFhcMZGeAGA08Cfg  ['Seafood', 'Restaurants', 'Specialty Food', '...  Las Vegas  {'Monday': '10:30-21:00', 'Tuesday': '10:30-21...        1  36.159363 -115.135949  Mariscos Playa Escondida     Downtown       89104             330      4.5    NV       0  2016-09-16        1  ZH8g_PoY0Tr3YdQ-RGySrA        5   \n",
       "1  1203 E Charleston Blvd, Ste 140  {'RestaurantsTableService': True, 'GoodForMeal...  YTqtM2WFhcMZGeAGA08Cfg  ['Seafood', 'Restaurants', 'Specialty Food', '...  Las Vegas  {'Monday': '10:30-21:00', 'Tuesday': '10:30-21...        1  36.159363 -115.135949  Mariscos Playa Escondida     Downtown       89104             330      4.5    NV       1  2014-11-13        1  6r2uAJE1dqUq1IHn_3R3qA        4   \n",
       "\n",
       "                                                text  useful_x                 user_id  average_stars  compliment_cool  compliment_cute  compliment_funny  compliment_hot  compliment_list  compliment_more  compliment_note  compliment_photos  compliment_plain  compliment_profile  compliment_writer  cool_y elite  fans                                            friends  funny_y   name_y  review_count_y  useful_y yelping_since  \n",
       "0  Great place. There was a man here who was very...         1  EDe16577dBImA1ypOzPlKg           5.00                0                0                 0               0                0                0                0                  0                 0                   0                  0       0    []     0                                                 []        0  Jessica               1         0    2014-07-26  \n",
       "1  HOT HOT HOT! Real Mexican Food\\n\\nNO fake wate...         2  twx2ZgFUbat87vGQ_tFbPA           3.55                0                0                 0               2                0                1                3                  0                 5                   0                  0      11    []     3  [eFObFWgDiQJwUiy9WlhOfg, W4KL3Q_AVGfRrWcwR60gK...       29    Edwin              94       317    2010-12-30  "
      ]
     },
     "execution_count": 9,
     "metadata": {},
     "output_type": "execute_result"
    }
   ],
   "source": [
    "complete_df.head(2)"
   ]
  },
  {
   "cell_type": "markdown",
   "metadata": {},
   "source": [
    "Taking only user_id, business_id, stars_y and using the surprise library(https://pypi.python.org/pypi/scikit-surprise)\n",
    "Algorithm predicting the baseline estimate for given user and item."
   ]
  },
  {
   "cell_type": "code",
   "execution_count": 10,
   "metadata": {},
   "outputs": [
    {
     "data": {
      "text/latex": [
       "$$r^ui=bui=μ+bu+bi$$"
      ],
      "text/plain": [
       "<IPython.core.display.Math object>"
      ]
     },
     "metadata": {},
     "output_type": "display_data"
    }
   ],
   "source": [
    "display(Math('r^ui=bui=μ+bu+bi'))"
   ]
  },
  {
   "cell_type": "code",
   "execution_count": 11,
   "metadata": {
    "collapsed": true
   },
   "outputs": [],
   "source": [
    "baseline_df = complete_df[['user_id','business_id','stars_y']]"
   ]
  },
  {
   "cell_type": "code",
   "execution_count": 12,
   "metadata": {
    "collapsed": true
   },
   "outputs": [],
   "source": [
    "from surprise import SVD,BaselineOnly, Reader,KNNBaseline\n",
    "from surprise import Dataset\n",
    "from surprise import Reader\n",
    "from surprise import evaluate, print_perf\n",
    "\n",
    "reader = Reader(rating_scale=(1, 5))\n",
    "# Load the dataset\n",
    "# and split it into 3 folds for cross-validation.\n",
    "data = Dataset.load_from_df(baseline_df,reader)\n",
    "data.split(n_folds=3)"
   ]
  },
  {
   "cell_type": "markdown",
   "metadata": {},
   "source": [
    "## BaselineOnly Model"
   ]
  },
  {
   "cell_type": "markdown",
   "metadata": {},
   "source": [
    "We used Surprise library for Baseline models. Surprise is a Python scikit for building, and analyzing (collaborative-filtering) recommender systems. Various algorithms are built-in, with a focus on rating prediction. \n",
    "BaselineOnly is an algorithm predicting the baseline estimate for given user and item \n",
    "\tYm = μ + su + sm\n",
    "where the unknown parameters su and sm indicate the deviations, or biases, of user u and item m respectively from some intercept parameter.\n",
    "\n",
    "KNNBaseline is a basic collaborative filtering algorithm taking into account a baseline rating.\n"
   ]
  },
  {
   "cell_type": "code",
   "execution_count": 13,
   "metadata": {},
   "outputs": [
    {
     "name": "stdout",
     "output_type": "stream",
     "text": [
      "Evaluating RMSE, MAE of algorithm BaselineOnly.\n",
      "\n",
      "------------\n",
      "Fold 1\n",
      "Estimating biases using als...\n",
      "RMSE: 1.2452\n",
      "MAE:  1.0188\n",
      "------------\n",
      "Fold 2\n",
      "Estimating biases using als...\n",
      "RMSE: 1.2428\n",
      "MAE:  1.0015\n",
      "------------\n",
      "Fold 3\n",
      "Estimating biases using als...\n",
      "RMSE: 1.2510\n",
      "MAE:  1.0192\n",
      "------------\n",
      "------------\n",
      "Mean RMSE: 1.2463\n",
      "Mean MAE : 1.0132\n",
      "------------\n",
      "------------\n",
      "        Fold 1  Fold 2  Fold 3  Mean    \n",
      "RMSE    1.2452  1.2428  1.2510  1.2463  \n",
      "MAE     1.0188  1.0015  1.0192  1.0132  \n"
     ]
    }
   ],
   "source": [
    "# Baselineonly model\n",
    "algo = BaselineOnly()\n",
    "# Performance\n",
    "perf_baseline = evaluate(algo, data, measures=['RMSE', 'MAE'])\n",
    "print_perf(perf_baseline)"
   ]
  },
  {
   "cell_type": "markdown",
   "metadata": {},
   "source": [
    "## KNNBaseline Model"
   ]
  },
  {
   "cell_type": "markdown",
   "metadata": {},
   "source": [
    "KNN Based on user restaurant rating"
   ]
  },
  {
   "cell_type": "code",
   "execution_count": 14,
   "metadata": {
    "hidden": true
   },
   "outputs": [
    {
     "data": {
      "text/latex": [
       "$$\\hat{r}_{ui} = \\mu_u + \\sigma_u \\frac{ \\sum\\limits_{v \\in N^k_i(u)}\\text{sim}(u, v) \\cdot (r_{vi} - \\mu_v) / \\sigma_v} {\\sum\\limits_{v\\in N^k_i(u)} \\text{sim}(u, v)}$$"
      ],
      "text/plain": [
       "<IPython.core.display.Math object>"
      ]
     },
     "metadata": {},
     "output_type": "display_data"
    }
   ],
   "source": [
    "display(Math(r'\\hat{r}_{ui} = \\mu_u + \\sigma_u \\frac{ \\sum\\limits_{v \\in N^k_i(u)}\\text{sim}(u, v) \\cdot (r_{vi} - \\mu_v) / \\sigma_v} {\\sum\\limits_{v\\in N^k_i(u)} \\text{sim}(u, v)}'))\n"
   ]
  },
  {
   "cell_type": "code",
   "execution_count": 15,
   "metadata": {},
   "outputs": [
    {
     "name": "stdout",
     "output_type": "stream",
     "text": [
      "Evaluating RMSE, MAE of algorithm KNNBaseline.\n",
      "\n",
      "------------\n",
      "Fold 1\n",
      "Estimating biases using als...\n",
      "Computing the msd similarity matrix...\n",
      "Done computing similarity matrix.\n",
      "RMSE: 1.2509\n",
      "MAE:  1.0222\n",
      "------------\n",
      "Fold 2\n",
      "Estimating biases using als...\n",
      "Computing the msd similarity matrix...\n",
      "Done computing similarity matrix.\n",
      "RMSE: 1.2517\n",
      "MAE:  1.0088\n",
      "------------\n",
      "Fold 3\n",
      "Estimating biases using als...\n",
      "Computing the msd similarity matrix...\n",
      "Done computing similarity matrix.\n",
      "RMSE: 1.2550\n",
      "MAE:  1.0203\n",
      "------------\n",
      "------------\n",
      "Mean RMSE: 1.2525\n",
      "Mean MAE : 1.0171\n",
      "------------\n",
      "------------\n",
      "        Fold 1  Fold 2  Fold 3  Mean    \n",
      "RMSE    1.2509  1.2517  1.2550  1.2525  \n",
      "MAE     1.0222  1.0088  1.0203  1.0171  \n"
     ]
    }
   ],
   "source": [
    "# KNNBaseline model\n",
    "algo = KNNBaseline()\n",
    "\n",
    "# Performance\n",
    "perf_knn_baseline = evaluate(algo, data, measures=['RMSE', 'MAE'])\n",
    "print_perf(perf_knn_baseline)"
   ]
  },
  {
   "cell_type": "markdown",
   "metadata": {},
   "source": [
    "## Memory Based Collaborative filtering"
   ]
  },
  {
   "cell_type": "markdown",
   "metadata": {},
   "source": [
    "We used Collaborative filtering. The two primary areas of collaborative filtering are the neighborhood methods and latent factor models. \n",
    "\n",
    "Neighborhood methods are centered on computing the relationships between items or, alternatively, between users. The item oriented approach evaluates a user’s preference for an item based on ratings of “neighboring” items by the same user. A product’s neighbors are other products that tend to get similar ratings when rated by the same user. "
   ]
  },
  {
   "cell_type": "code",
   "execution_count": 16,
   "metadata": {},
   "outputs": [
    {
     "name": "stdout",
     "output_type": "stream",
     "text": [
      "Number of Unique Users:  11749\n",
      "Number of Restaurant:  482\n"
     ]
    }
   ],
   "source": [
    "# Number of unique users nad restaurants\n",
    "n_users = complete_df['user_id'].nunique()\n",
    "n_restaurants = complete_df['business_id'].nunique()\n",
    "\n",
    "print('Number of Unique Users: ', n_users)\n",
    "print('Number of Restaurant: ',n_restaurants)"
   ]
  },
  {
   "cell_type": "markdown",
   "metadata": {},
   "source": [
    "Making user_id and business_id as nominal variable "
   ]
  },
  {
   "cell_type": "code",
   "execution_count": 17,
   "metadata": {
    "collapsed": true
   },
   "outputs": [],
   "source": [
    "# Creating the nominal variable for  user_id\n",
    "unique_user_id = pd.DataFrame(complete_df['user_id'].unique(),columns =['user_id']).reset_index()\n",
    "unique_user_id['new_user_id'] =unique_user_id['index']\n",
    "del unique_user_id['index']\n",
    "\n",
    "# Creating the nominal variable for  restaurant_id\n",
    "unique_business_id = pd.DataFrame(complete_df['business_id'].unique(),columns =['business_id']).reset_index()\n",
    "unique_business_id['new_business_id'] =unique_business_id['index']\n",
    "del unique_business_id['index']"
   ]
  },
  {
   "cell_type": "code",
   "execution_count": 18,
   "metadata": {
    "collapsed": true
   },
   "outputs": [],
   "source": [
    "# Joining the nominal user_id and restaurant_id main dataframe with all the data\n",
    "new_complete_df = complete_df.merge(unique_user_id,on='user_id',how ='left')\n",
    "new_complete_df = new_complete_df.merge(unique_business_id,on='business_id',how ='left')"
   ]
  },
  {
   "cell_type": "code",
   "execution_count": 19,
   "metadata": {},
   "outputs": [
    {
     "data": {
      "text/html": [
       "<div>\n",
       "<style>\n",
       "    .dataframe thead tr:only-child th {\n",
       "        text-align: right;\n",
       "    }\n",
       "\n",
       "    .dataframe thead th {\n",
       "        text-align: left;\n",
       "    }\n",
       "\n",
       "    .dataframe tbody tr th {\n",
       "        vertical-align: top;\n",
       "    }\n",
       "</style>\n",
       "<table border=\"1\" class=\"dataframe\">\n",
       "  <thead>\n",
       "    <tr style=\"text-align: right;\">\n",
       "      <th></th>\n",
       "      <th>address</th>\n",
       "      <th>attributes</th>\n",
       "      <th>business_id</th>\n",
       "      <th>categories</th>\n",
       "      <th>city</th>\n",
       "      <th>hours</th>\n",
       "      <th>is_open</th>\n",
       "      <th>latitude</th>\n",
       "      <th>longitude</th>\n",
       "      <th>name_x</th>\n",
       "      <th>neighborhood</th>\n",
       "      <th>postal_code</th>\n",
       "      <th>review_count_x</th>\n",
       "      <th>stars_x</th>\n",
       "      <th>state</th>\n",
       "      <th>cool_x</th>\n",
       "      <th>date</th>\n",
       "      <th>funny_x</th>\n",
       "      <th>review_id</th>\n",
       "      <th>stars_y</th>\n",
       "      <th>text</th>\n",
       "      <th>useful_x</th>\n",
       "      <th>user_id</th>\n",
       "      <th>average_stars</th>\n",
       "      <th>compliment_cool</th>\n",
       "      <th>compliment_cute</th>\n",
       "      <th>compliment_funny</th>\n",
       "      <th>compliment_hot</th>\n",
       "      <th>compliment_list</th>\n",
       "      <th>compliment_more</th>\n",
       "      <th>compliment_note</th>\n",
       "      <th>compliment_photos</th>\n",
       "      <th>compliment_plain</th>\n",
       "      <th>compliment_profile</th>\n",
       "      <th>compliment_writer</th>\n",
       "      <th>cool_y</th>\n",
       "      <th>elite</th>\n",
       "      <th>fans</th>\n",
       "      <th>friends</th>\n",
       "      <th>funny_y</th>\n",
       "      <th>name_y</th>\n",
       "      <th>review_count_y</th>\n",
       "      <th>useful_y</th>\n",
       "      <th>yelping_since</th>\n",
       "      <th>new_user_id</th>\n",
       "      <th>new_business_id</th>\n",
       "    </tr>\n",
       "  </thead>\n",
       "  <tbody>\n",
       "    <tr>\n",
       "      <th>0</th>\n",
       "      <td>1203 E Charleston Blvd, Ste 140</td>\n",
       "      <td>{'RestaurantsTableService': True, 'GoodForMeal...</td>\n",
       "      <td>YTqtM2WFhcMZGeAGA08Cfg</td>\n",
       "      <td>['Seafood', 'Restaurants', 'Specialty Food', '...</td>\n",
       "      <td>Las Vegas</td>\n",
       "      <td>{'Monday': '10:30-21:00', 'Tuesday': '10:30-21...</td>\n",
       "      <td>1</td>\n",
       "      <td>36.159363</td>\n",
       "      <td>-115.135949</td>\n",
       "      <td>Mariscos Playa Escondida</td>\n",
       "      <td>Downtown</td>\n",
       "      <td>89104</td>\n",
       "      <td>330</td>\n",
       "      <td>4.5</td>\n",
       "      <td>NV</td>\n",
       "      <td>0</td>\n",
       "      <td>2016-09-16</td>\n",
       "      <td>1</td>\n",
       "      <td>ZH8g_PoY0Tr3YdQ-RGySrA</td>\n",
       "      <td>5</td>\n",
       "      <td>Great place. There was a man here who was very...</td>\n",
       "      <td>1</td>\n",
       "      <td>EDe16577dBImA1ypOzPlKg</td>\n",
       "      <td>5.00</td>\n",
       "      <td>0</td>\n",
       "      <td>0</td>\n",
       "      <td>0</td>\n",
       "      <td>0</td>\n",
       "      <td>0</td>\n",
       "      <td>0</td>\n",
       "      <td>0</td>\n",
       "      <td>0</td>\n",
       "      <td>0</td>\n",
       "      <td>0</td>\n",
       "      <td>0</td>\n",
       "      <td>0</td>\n",
       "      <td>[]</td>\n",
       "      <td>0</td>\n",
       "      <td>[]</td>\n",
       "      <td>0</td>\n",
       "      <td>Jessica</td>\n",
       "      <td>1</td>\n",
       "      <td>0</td>\n",
       "      <td>2014-07-26</td>\n",
       "      <td>0</td>\n",
       "      <td>0</td>\n",
       "    </tr>\n",
       "    <tr>\n",
       "      <th>1</th>\n",
       "      <td>1203 E Charleston Blvd, Ste 140</td>\n",
       "      <td>{'RestaurantsTableService': True, 'GoodForMeal...</td>\n",
       "      <td>YTqtM2WFhcMZGeAGA08Cfg</td>\n",
       "      <td>['Seafood', 'Restaurants', 'Specialty Food', '...</td>\n",
       "      <td>Las Vegas</td>\n",
       "      <td>{'Monday': '10:30-21:00', 'Tuesday': '10:30-21...</td>\n",
       "      <td>1</td>\n",
       "      <td>36.159363</td>\n",
       "      <td>-115.135949</td>\n",
       "      <td>Mariscos Playa Escondida</td>\n",
       "      <td>Downtown</td>\n",
       "      <td>89104</td>\n",
       "      <td>330</td>\n",
       "      <td>4.5</td>\n",
       "      <td>NV</td>\n",
       "      <td>1</td>\n",
       "      <td>2014-11-13</td>\n",
       "      <td>1</td>\n",
       "      <td>6r2uAJE1dqUq1IHn_3R3qA</td>\n",
       "      <td>4</td>\n",
       "      <td>HOT HOT HOT! Real Mexican Food\\n\\nNO fake wate...</td>\n",
       "      <td>2</td>\n",
       "      <td>twx2ZgFUbat87vGQ_tFbPA</td>\n",
       "      <td>3.55</td>\n",
       "      <td>0</td>\n",
       "      <td>0</td>\n",
       "      <td>0</td>\n",
       "      <td>2</td>\n",
       "      <td>0</td>\n",
       "      <td>1</td>\n",
       "      <td>3</td>\n",
       "      <td>0</td>\n",
       "      <td>5</td>\n",
       "      <td>0</td>\n",
       "      <td>0</td>\n",
       "      <td>11</td>\n",
       "      <td>[]</td>\n",
       "      <td>3</td>\n",
       "      <td>[eFObFWgDiQJwUiy9WlhOfg, W4KL3Q_AVGfRrWcwR60gK...</td>\n",
       "      <td>29</td>\n",
       "      <td>Edwin</td>\n",
       "      <td>94</td>\n",
       "      <td>317</td>\n",
       "      <td>2010-12-30</td>\n",
       "      <td>1</td>\n",
       "      <td>0</td>\n",
       "    </tr>\n",
       "  </tbody>\n",
       "</table>\n",
       "</div>"
      ],
      "text/plain": [
       "                           address                                         attributes             business_id                                         categories       city                                              hours  is_open   latitude   longitude                    name_x neighborhood postal_code  review_count_x  stars_x state  cool_x        date  funny_x               review_id  stars_y  \\\n",
       "0  1203 E Charleston Blvd, Ste 140  {'RestaurantsTableService': True, 'GoodForMeal...  YTqtM2WFhcMZGeAGA08Cfg  ['Seafood', 'Restaurants', 'Specialty Food', '...  Las Vegas  {'Monday': '10:30-21:00', 'Tuesday': '10:30-21...        1  36.159363 -115.135949  Mariscos Playa Escondida     Downtown       89104             330      4.5    NV       0  2016-09-16        1  ZH8g_PoY0Tr3YdQ-RGySrA        5   \n",
       "1  1203 E Charleston Blvd, Ste 140  {'RestaurantsTableService': True, 'GoodForMeal...  YTqtM2WFhcMZGeAGA08Cfg  ['Seafood', 'Restaurants', 'Specialty Food', '...  Las Vegas  {'Monday': '10:30-21:00', 'Tuesday': '10:30-21...        1  36.159363 -115.135949  Mariscos Playa Escondida     Downtown       89104             330      4.5    NV       1  2014-11-13        1  6r2uAJE1dqUq1IHn_3R3qA        4   \n",
       "\n",
       "                                                text  useful_x                 user_id  average_stars  compliment_cool  compliment_cute  compliment_funny  compliment_hot  compliment_list  compliment_more  compliment_note  compliment_photos  compliment_plain  compliment_profile  compliment_writer  cool_y elite  fans                                            friends  funny_y   name_y  review_count_y  useful_y yelping_since  new_user_id  \\\n",
       "0  Great place. There was a man here who was very...         1  EDe16577dBImA1ypOzPlKg           5.00                0                0                 0               0                0                0                0                  0                 0                   0                  0       0    []     0                                                 []        0  Jessica               1         0    2014-07-26            0   \n",
       "1  HOT HOT HOT! Real Mexican Food\\n\\nNO fake wate...         2  twx2ZgFUbat87vGQ_tFbPA           3.55                0                0                 0               2                0                1                3                  0                 5                   0                  0      11    []     3  [eFObFWgDiQJwUiy9WlhOfg, W4KL3Q_AVGfRrWcwR60gK...       29    Edwin              94       317    2010-12-30            1   \n",
       "\n",
       "   new_business_id  \n",
       "0                0  \n",
       "1                0  "
      ]
     },
     "execution_count": 19,
     "metadata": {},
     "output_type": "execute_result"
    }
   ],
   "source": [
    "new_complete_df.head(2)"
   ]
  },
  {
   "cell_type": "markdown",
   "metadata": {},
   "source": [
    "### Train Test Split\n"
   ]
  },
  {
   "cell_type": "code",
   "execution_count": 20,
   "metadata": {
    "collapsed": true
   },
   "outputs": [],
   "source": [
    "from sklearn.cross_validation import train_test_split\n",
    "train_data, test_data = train_test_split(new_complete_df, test_size=0.25)"
   ]
  },
  {
   "cell_type": "code",
   "execution_count": 21,
   "metadata": {
    "collapsed": true
   },
   "outputs": [],
   "source": [
    "#Creating two,  user and restaurant matrices, one for training and another for testing\n",
    "train_data_matrix = np.zeros((n_users, n_restaurants))\n",
    "for row in train_data.itertuples():\n",
    "    # selecting new_user_id, new_restaurant_id, and rating star\n",
    "    train_data_matrix[row[45]-1, row[46]-1] = row[20]  \n",
    "\n",
    "test_data_matrix = np.zeros((n_users, n_restaurants))\n",
    "for line in test_data.itertuples():\n",
    "    test_data_matrix[row[45]-1, row[46]-1] = row[20]  "
   ]
  },
  {
   "cell_type": "code",
   "execution_count": 22,
   "metadata": {
    "collapsed": true
   },
   "outputs": [],
   "source": [
    "# Calculating the pairwise distances using the cosine metric\n",
    "from sklearn.metrics.pairwise import pairwise_distances\n",
    "user_similarity = pairwise_distances(train_data_matrix, metric='cosine')\n",
    "restaurant_similarity = pairwise_distances(train_data_matrix.T, metric='cosine')"
   ]
  },
  {
   "cell_type": "code",
   "execution_count": 23,
   "metadata": {
    "collapsed": true
   },
   "outputs": [],
   "source": [
    "# Function for predicting rating with argument as number of rating for users and restaurant, similarity between them and type: user or restaurant\n",
    "\n",
    "def predict_rating(num_rating, sim, type='user'):\n",
    "    if type == 'user':\n",
    "        user_rating_avg = num_rating.mean(axis=1)\n",
    "        ratings_difference = (num_rating - user_rating_avg[:, np.newaxis]) \n",
    "        prediction = user_rating_avg[:, np.newaxis] + sim.dot(ratings_difference) / np.array([np.abs(sim).sum(axis=1)]).T\n",
    "    elif type == 'restaurant':\n",
    "        prediction = num_rating.dot(sim) / np.array([np.abs(sim).sum(axis=1)])     \n",
    "    return prediction"
   ]
  },
  {
   "cell_type": "code",
   "execution_count": 24,
   "metadata": {
    "collapsed": true
   },
   "outputs": [],
   "source": [
    "# Training prediction\n",
    "restaurant_prediction = predict_rating(train_data_matrix, restaurant_similarity, type='restaurant')\n",
    "user_prediction = predict_rating(train_data_matrix, user_similarity, type='user')\n",
    "\n",
    "# Testing prediction\n",
    "restaurant_prediction_test = predict_rating(test_data_matrix, restaurant_similarity, type='restaurant')\n",
    "user_prediction_test = predict_rating(test_data_matrix, user_similarity, type='user')"
   ]
  },
  {
   "cell_type": "code",
   "execution_count": 25,
   "metadata": {
    "collapsed": true
   },
   "outputs": [],
   "source": [
    "model_memory_based_pred_res = restaurant_prediction\n",
    "model_memory_based_pred_user = user_prediction\n",
    "\n",
    "model_memory_based_pred_res_test = restaurant_prediction_test\n",
    "model_memory_based_pred_user_test = user_prediction_test"
   ]
  },
  {
   "cell_type": "markdown",
   "metadata": {},
   "source": [
    "### Evaluation using RMSE\n"
   ]
  },
  {
   "cell_type": "code",
   "execution_count": 26,
   "metadata": {
    "collapsed": true
   },
   "outputs": [],
   "source": [
    "from sklearn.metrics import mean_squared_error\n",
    "from math import sqrt\n",
    "def rmse(prediction, true_value):\n",
    "    prediction = prediction[true_value.nonzero()].flatten() \n",
    "    true_value = true_value[true_value.nonzero()].flatten()\n",
    "    return sqrt(mean_squared_error(prediction, true_value))"
   ]
  },
  {
   "cell_type": "code",
   "execution_count": 27,
   "metadata": {},
   "outputs": [
    {
     "name": "stdout",
     "output_type": "stream",
     "text": [
      "RMSE for training  User based Collaborative filtering: 3.920373589539869\n",
      "RMSE for training Restaurant based Collaborative filtering:  3.924467145133183\n",
      "RMSE for testing  User based Collaborative filtering: 4.9896265560165975\n",
      "RMSE for testing Restaurant based Collaborative filtering:  5.0\n"
     ]
    }
   ],
   "source": [
    "print('RMSE for training  User based Collaborative filtering:', (rmse(user_prediction, train_data_matrix)))\n",
    "print('RMSE for training Restaurant based Collaborative filtering: ', (rmse(restaurant_prediction, train_data_matrix)))\n",
    "print('RMSE for testing  User based Collaborative filtering:', (rmse(user_prediction_test, test_data_matrix)))\n",
    "print('RMSE for testing Restaurant based Collaborative filtering: ', (rmse(restaurant_prediction_test, test_data_matrix)))"
   ]
  },
  {
   "cell_type": "markdown",
   "metadata": {},
   "source": [
    "## SVD"
   ]
  },
  {
   "cell_type": "markdown",
   "metadata": {},
   "source": [
    "Latent factor models (aka SVD) are an alternative approach that tries to explain the ratings by characterizing both items and users on number of factors inferred from the ratings patterns. Latent factor models are based on matrix factorization which characterizes both items and users by vectors of factors inferred from item rating patterns. High correspondence between item and user factors leads to a recommendation. From the results, we can see that prediction accuracy has improved by considering also implicit feedback, which provides an additional indication of user preferences."
   ]
  },
  {
   "cell_type": "code",
   "execution_count": 28,
   "metadata": {
    "collapsed": true
   },
   "outputs": [],
   "source": [
    "#Using libraries\n",
    "import scipy.sparse as sp\n",
    "from scipy.sparse.linalg import svds\n",
    "\n",
    "#get SVD components from train matrix. Choose k.\n",
    "u, s, vt = svds(train_data_matrix, k =10)\n",
    "s_diag_matrix=np.diag(s)\n",
    "X_pred = np.dot(np.dot(u, s_diag_matrix), vt)\n",
    "\n",
    "u_test, s_test, vt_test = svds(test_data_matrix, k =10)\n",
    "X_pred_test = np.dot(np.dot(u_test, s_diag_matrix), vt)"
   ]
  },
  {
   "cell_type": "code",
   "execution_count": 29,
   "metadata": {},
   "outputs": [
    {
     "name": "stdout",
     "output_type": "stream",
     "text": [
      "RMSE for training User based SVD Collaborative filtering:  3.3716947413739393\n",
      "RMSE for testing User based SVD Collaborative filtering:  4.999999999650054\n"
     ]
    }
   ],
   "source": [
    "print('RMSE for training User based SVD Collaborative filtering: ', (rmse(X_pred, train_data_matrix)))\n",
    "print('RMSE for testing User based SVD Collaborative filtering: ', (rmse(X_pred_test, test_data_matrix)))"
   ]
  },
  {
   "cell_type": "markdown",
   "metadata": {},
   "source": [
    "## Meta Classifier"
   ]
  },
  {
   "cell_type": "markdown",
   "metadata": {},
   "source": [
    "We have used multiple models (neighborhoods & SVD) whose individual predictions are combined to classify new examples. Integration should improve predictive accuracy. Each of the models has a mediocre accuracy rate. We would have to increase the importance of the model with high accuracy, and reduce the importance of the models with lower accuracy. To do this in Python, one may use the predicted values as the predictors in a Logistic Regression model, and the corresponding y as the response. Logistic Regression can take the \"importance\" of each model into account: the \"predictors\" or models that do well most of the time will have the more significant coefficients."
   ]
  },
  {
   "cell_type": "code",
   "execution_count": 30,
   "metadata": {
    "collapsed": true
   },
   "outputs": [],
   "source": [
    "model_svd_based_pred = X_pred\n",
    "model_svd_based_pred_test = X_pred_test\n",
    "\n",
    "# flattening the results from each model above for training\n",
    "model_memory_based_pred_res_flat = model_memory_based_pred_res.ravel()\n",
    "model_memory_based_pred_user_flat = model_memory_based_pred_user.ravel()\n",
    "model_svd_based_pred_flat = model_svd_based_pred.ravel()\n",
    "\n",
    "# flattening the results from each model above for testing\n",
    "model_memory_based_pred_res_test_flat = model_memory_based_pred_res_test.ravel()\n",
    "model_memory_based_pred_user_test_flat = model_memory_based_pred_user_test.ravel()\n",
    "model_svd_based_pred_test_flat = model_svd_based_pred_test.ravel()\n",
    "\n",
    "# creating a 3-columns  array for 3 models\n",
    "pred_model_array_train =  np.zeros((model_memory_based_pred_res_flat.size,3))\n",
    "pred_model_array_test =  np.zeros((model_memory_based_pred_res_test_flat.size,3))\n",
    "\n",
    "# for training\n",
    "pred_model_array_train[:,0] = model_memory_based_pred_res_flat\n",
    "pred_model_array_train[:,1] = model_memory_based_pred_user_flat \n",
    "pred_model_array_train[:,2] = model_svd_based_pred_flat\n",
    "\n",
    "# for testing\n",
    "pred_model_array_test[:,0] = model_memory_based_pred_res_test_flat\n",
    "pred_model_array_test[:,1] = model_memory_based_pred_user_test_flat \n",
    "pred_model_array_test[:,2] = model_svd_based_pred_test_flat\n",
    "\n",
    "# True response values from train and test\n",
    "y_train_data_matrix_flat = train_data_matrix.ravel()\n",
    "y_test_data_matrix_flat = test_data_matrix.ravel()"
   ]
  },
  {
   "cell_type": "code",
   "execution_count": 31,
   "metadata": {
    "collapsed": true
   },
   "outputs": [],
   "source": [
    "# function for error calculation\n",
    "def rmse_new(prediction, true_value):\n",
    "    return sqrt(mean_squared_error(prediction, true_value))"
   ]
  },
  {
   "cell_type": "code",
   "execution_count": 32,
   "metadata": {},
   "outputs": [
    {
     "name": "stdout",
     "output_type": "stream",
     "text": [
      "Test LogReg RMSE:  0.3965122913294842\n",
      "Train LogReg RMSE:  0.16192899952388481\n"
     ]
    }
   ],
   "source": [
    "from sklearn.metrics import mean_squared_error\n",
    "logreg = LogisticRegressionCV()\n",
    "y_hat_train = logreg.fit(pred_model_array_train[0:100000], y_train_data_matrix_flat[0:100000]).predict(pred_model_array_train)\n",
    "y_hat_test = logreg.fit(pred_model_array_train[0:100000], y_train_data_matrix_flat[0:100000]).predict(pred_model_array_test)\n",
    "\n",
    "print(\"Test LogReg RMSE: \", rmse_new(y_test_data_matrix_flat, y_hat_test))\n",
    "print(\"Train LogReg RMSE: \", rmse_new(y_train_data_matrix_flat, y_hat_train))"
   ]
  },
  {
   "cell_type": "code",
   "execution_count": 33,
   "metadata": {},
   "outputs": [
    {
     "name": "stdout",
     "output_type": "stream",
     "text": [
      "        Fold 1  Fold 2  Fold 3  Mean    \n",
      "RMSE    1.2452  1.2428  1.2510  1.2463  \n",
      "MAE     1.0188  1.0015  1.0192  1.0132  \n"
     ]
    }
   ],
   "source": [
    "print_perf(perf_baseline)"
   ]
  },
  {
   "cell_type": "code",
   "execution_count": 34,
   "metadata": {},
   "outputs": [
    {
     "name": "stdout",
     "output_type": "stream",
     "text": [
      "        Fold 1  Fold 2  Fold 3  Mean    \n",
      "RMSE    1.2509  1.2517  1.2550  1.2525  \n",
      "MAE     1.0222  1.0088  1.0203  1.0171  \n"
     ]
    }
   ],
   "source": [
    "print_perf(perf_knn_baseline)"
   ]
  },
  {
   "cell_type": "markdown",
   "metadata": {
    "collapsed": true
   },
   "source": [
    "## Model comparison via RMSE"
   ]
  },
  {
   "cell_type": "code",
   "execution_count": 35,
   "metadata": {},
   "outputs": [
    {
     "data": {
      "text/html": [
       "<div>\n",
       "<style>\n",
       "    .dataframe thead tr:only-child th {\n",
       "        text-align: right;\n",
       "    }\n",
       "\n",
       "    .dataframe thead th {\n",
       "        text-align: left;\n",
       "    }\n",
       "\n",
       "    .dataframe tbody tr th {\n",
       "        vertical-align: top;\n",
       "    }\n",
       "</style>\n",
       "<table border=\"1\" class=\"dataframe\">\n",
       "  <thead>\n",
       "    <tr style=\"text-align: right;\">\n",
       "      <th></th>\n",
       "      <th>Meta Classifer</th>\n",
       "      <th>SVD Collaborative Filtetering</th>\n",
       "      <th>Memory Based User Collaborative Filering</th>\n",
       "      <th>Memory Based Restaurant Collaborative Filtering</th>\n",
       "    </tr>\n",
       "  </thead>\n",
       "  <tbody>\n",
       "    <tr>\n",
       "      <th>RMSE in Training</th>\n",
       "      <td>0.161929</td>\n",
       "      <td>3.371695</td>\n",
       "      <td>3.920374</td>\n",
       "      <td>3.924467</td>\n",
       "    </tr>\n",
       "    <tr>\n",
       "      <th>RMSE in Testing</th>\n",
       "      <td>0.396512</td>\n",
       "      <td>5.000000</td>\n",
       "      <td>4.989627</td>\n",
       "      <td>5.000000</td>\n",
       "    </tr>\n",
       "  </tbody>\n",
       "</table>\n",
       "</div>"
      ],
      "text/plain": [
       "                  Meta Classifer  SVD Collaborative Filtetering  Memory Based User Collaborative Filering  Memory Based Restaurant Collaborative Filtering\n",
       "RMSE in Training        0.161929                       3.371695                                  3.920374                                         3.924467\n",
       "RMSE in Testing         0.396512                       5.000000                                  4.989627                                         5.000000"
      ]
     },
     "execution_count": 35,
     "metadata": {},
     "output_type": "execute_result"
    }
   ],
   "source": [
    "meta_clf_scores_tr = rmse_new(y_train_data_matrix_flat, y_hat_train)\n",
    "SVD_cf_scores_tr = rmse(X_pred, train_data_matrix)\n",
    "memory_user_based_cf_scores_tr = rmse(user_prediction, train_data_matrix)\n",
    "memory_restaurant_based_cf_scores_tr = rmse(restaurant_prediction, train_data_matrix)\n",
    "\n",
    "meta_clf_scores_ts = rmse_new(y_test_data_matrix_flat, y_hat_test)\n",
    "SVD_cf_scores_ts = rmse(X_pred_test, test_data_matrix)\n",
    "memory_user_based_cf_scores_ts = rmse(user_prediction_test, test_data_matrix)\n",
    "memory_restaurant_based_cf_scores_ts = rmse(restaurant_prediction_test, test_data_matrix)\n",
    "   \n",
    "score = [meta_clf_scores_tr,SVD_cf_scores_tr,memory_user_based_cf_scores_tr,memory_restaurant_based_cf_scores_tr,\n",
    "        meta_clf_scores_ts,SVD_cf_scores_ts,memory_user_based_cf_scores_ts,memory_restaurant_based_cf_scores_ts]\n",
    "\n",
    "\n",
    "pd.DataFrame(np.array(score).reshape(2,4), columns = ['Meta Classifer','SVD Collaborative Filtetering','Memory Based User Collaborative Filering',\n",
    "                        'Memory Based Restaurant Collaborative Filtering'], index = ['RMSE in Training','RMSE in Testing'])\n"
   ]
  },
  {
   "cell_type": "markdown",
   "metadata": {},
   "source": [
    "We can see above that meta Classifier is working better than other models"
   ]
  }
 ],
 "metadata": {
  "celltoolbar": "Edit Metadata",
  "kernelspec": {
   "display_name": "Python 3",
   "language": "python",
   "name": "python3"
  },
  "language_info": {
   "codemirror_mode": {
    "name": "ipython",
    "version": 3
   },
   "file_extension": ".py",
   "mimetype": "text/x-python",
   "name": "python",
   "nbconvert_exporter": "python",
   "pygments_lexer": "ipython3",
   "version": "3.6.3"
  }
 },
 "nbformat": 4,
 "nbformat_minor": 2
}
